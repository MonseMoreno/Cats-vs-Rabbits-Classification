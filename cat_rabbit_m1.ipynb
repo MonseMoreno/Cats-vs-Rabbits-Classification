{
 "cells": [
  {
   "cell_type": "markdown",
   "id": "d5a1b47b",
   "metadata": {},
   "source": [
    "#### Imports"
   ]
  },
  {
   "cell_type": "code",
   "execution_count": null,
   "id": "62925e32",
   "metadata": {},
   "outputs": [],
   "source": [
    "\n",
    "#Preprocesado de datos / carga de datos\n",
    "import matplotlib.pyplot as plt\n",
    "import numpy as np\n",
    "import os\n",
    "import tensorflow as tf\n",
    "from tensorflow.keras.preprocessing.image import ImageDataGenerator\n",
    "\n",
    "# Modelo\n",
    "from tensorflow.keras.models import Sequential\n",
    "from tensorflow.keras.layers import Conv2D, MaxPooling2D, Flatten, Dense, Dropout\n",
    "from sklearn.metrics import classification_report, confusion_matrix, ConfusionMatrixDisplay\n",
    "\n",
    "# Evaluación del modelo\n",
    "from tensorflow.keras.models import load_model"
   ]
  },
  {
   "cell_type": "markdown",
   "id": "16c72097",
   "metadata": {},
   "source": [
    "#### Data"
   ]
  },
  {
   "cell_type": "code",
   "execution_count": null,
   "id": "94cea521",
   "metadata": {},
   "outputs": [],
   "source": [
    "base_dir = \"data\"\n",
    "train_dir = os.path.join(base_dir, 'train-cat-rabbit')\n",
    "test_dir = os.path.join(base_dir, 'test-images')\n",
    "valid_dir = os.path.join(base_dir, 'val-cat-rabbit')"
   ]
  },
  {
   "cell_type": "markdown",
   "id": "74ba6989",
   "metadata": {},
   "source": [
    "#### Técnicas de Escalamiento y Preprocesado"
   ]
  },
  {
   "cell_type": "code",
   "execution_count": null,
   "id": "9cd14370",
   "metadata": {},
   "outputs": [],
   "source": [
    "train_datagen = ImageDataGenerator(\n",
    "#Técnicas de preprocesamiento de datos para mejorar la categorización del modelo\n",
    "\t\t\t\trescale = 1./255, \n",
    "\t\t\t\trotation_range = 20, \n",
    "\t\t\t\twidth_shift_range = 0.1, \n",
    "    \t\t\theight_shift_range=0.1,\n",
    "\t\t\t\tzoom_range = 0.15,\n",
    "\t\t\t\thorizontal_flip = True,\n",
    "\t\t\t\tbrightness_range=[0.5, 1.2] \n",
    "    )\n",
    "\n",
    "validation_datagen = ImageDataGenerator(rescale = 1./255) \n",
    "\n",
    "test_datagen = ImageDataGenerator(rescale = 1./255,)        # Escala los píxeles de las imágenes de prueba al rango [0, 1]\n"
   ]
  },
  {
   "cell_type": "code",
   "execution_count": null,
   "id": "d34d6224",
   "metadata": {},
   "outputs": [],
   "source": [
    "\n",
    "images_size = (150, 150) #Medida de las imágenes\n",
    "\n",
    "train_generator = train_datagen.flow_from_directory(\n",
    "\t\t\t\t\t\t\ttrain_dir,\n",
    "\t\t\t\t\t\t\ttarget_size = images_size, # Tamaño al que se redimensionan las imágenes\n",
    "\t\t\t\t\t\t\tbatch_size = 32,  # Tamaño del lote de imágenes por batch\n",
    "\t\t\t\t\t\t\tclass_mode ='binary', # Tipo de etiquetas: 'binary' porque hay dos clases (gato y conejo)\n",
    "       \t\t\t\t\t\tshuffle = True \n",
    "\t\t\t\t\t\t\t)\n",
    "\n",
    "\n",
    "test_generator = test_datagen.flow_from_directory(\n",
    "\t\t\t\t\t\t\ttest_dir,\n",
    "\t\t\t\t\t\t\ttarget_size = images_size,\n",
    "\t\t\t\t\t\t\tbatch_size = 32,  \n",
    "\t\t\t\t\t\t\tclass_mode ='binary',\n",
    "       \t\t\t\t\t\tshuffle = False\t\t\n",
    "   \t\t\t\t\t\t\t)\n",
    "\n",
    "\n",
    "validation_generator = validation_datagen.flow_from_directory(\n",
    "\t\t\t\t\t\t\tvalid_dir,\n",
    "\t\t\t\t\t\t\ttarget_size = images_size, \n",
    "\t\t\t\t\t\t\tbatch_size = 32, \n",
    "\t\t\t\t\t\t\tclass_mode ='binary', \n",
    "\t\t\t\t\t\t\tshuffle = False\n",
    "\t\t\t\t\t\t\t)\n",
    "\n",
    "\n",
    "plt.figure()\n",
    "f, axarr = plt.subplots(1, 5, figsize=(30, 8))\n",
    "\n",
    "for i in range(5) :\n",
    "  \taxarr[i].imshow(train_generator[0][0][0])"
   ]
  },
  {
   "cell_type": "code",
   "execution_count": null,
   "id": "de5c0b0a",
   "metadata": {},
   "outputs": [],
   "source": [
    "# Visualizar imágenes y las etiquetas despúes de escalamiento y preprocesado\n",
    "images, labels = train_generator[0]\n",
    "class_names = list(train_generator.class_indices.keys())\n",
    "\n",
    "print(images.shape)\n",
    "print(labels)\n",
    "\n",
    "plt.figure()\n",
    "f, axarr = plt.subplots(1, 10, figsize=(30, 7))\n",
    "\n",
    "for i in range(10):\n",
    "    axarr[i].imshow(images[i])\n",
    "    axarr[i].set_title(class_names[int(labels[i])], fontsize=15)\n"
   ]
  },
  {
   "cell_type": "markdown",
   "id": "ccc601b3",
   "metadata": {},
   "source": [
    "#### Modelo"
   ]
  },
  {
   "cell_type": "code",
   "execution_count": null,
   "id": "573e4647",
   "metadata": {},
   "outputs": [],
   "source": [
    "# Crear el modelo CNN\n",
    "\n",
    "model = Sequential([\n",
    "    # Capa 1: Convolucional con 32 filtros de 3x3, función de activación ReLU, y tamaño de entrada 150x150x3 \n",
    "    # Capa de MaxPooling para redicir las dimensiones de la salida\n",
    "    Conv2D(32, (3, 3), activation='relu', input_shape=(150, 150, 3)),\n",
    "    MaxPooling2D((2, 2)),\n",
    "    # Capa 2: Convolucional con 64 filtros de 3x3, función de activación ReLU \n",
    "    # Capa de MaxPooling para redicir las dimensiones de la salida    \n",
    "    \n",
    "    Conv2D(64, (3, 3), activation='relu'),\n",
    "    MaxPooling2D((2, 2)),\n",
    "    #Capa 3: Convolucional con 128 filtros de 3x3, función de activación ReLU\n",
    "    #Capa de MaxPooling para redicir las dimensiones de la salida\n",
    "    \n",
    "    Conv2D(128, (3, 3), activation='relu'),\n",
    "    MaxPooling2D((2, 2)),\n",
    "\n",
    "    #Aplanar la salida para pasarla a capas más densas\n",
    "    Flatten(),\n",
    "    \n",
    "    #Poner en 0 de forma aleatoria un porcentaje de neuronas durante cada paso de entrenamiento\n",
    "    Dropout(0.3),\n",
    "    \n",
    "    #Capa densa con 128 neuronas y función de activación ReLU\n",
    "    #Capa de salida con una neurona de activación sigmoide para clasificar los gatos y conejos\n",
    "    Dense(128, activation= \"relu\"),\n",
    "    Dense(1, activation='sigmoid') \n",
    "])\n",
    "\n",
    "# Compilar el modelo con optimizador Adam, pérdida binaria y métrica de precisión\n",
    "model.compile(optimizer='adam', loss='binary_crossentropy', metrics=['accuracy'])\n",
    "\n",
    "# Mostrar resumen de la arquitectura del modelo\n",
    "model.summary()"
   ]
  },
  {
   "cell_type": "code",
   "execution_count": null,
   "id": "ab66cfd4",
   "metadata": {},
   "outputs": [],
   "source": [
    "history = model.fit(\n",
    "        train_generator,              # Conjunto de entrenamiento con data-augmentation\n",
    "        epochs=15,                    \n",
    "        validation_data = validation_generator,   # Conjunto de validación para monitoreo\n",
    "        verbose=1                     # Muestra el progreso en pantalla\n",
    ")\n"
   ]
  },
  {
   "cell_type": "code",
   "execution_count": null,
   "id": "a620ebef",
   "metadata": {},
   "outputs": [],
   "source": [
    "# Guardar el modelo \n",
    "model.save('segundo_modelo.h5')"
   ]
  },
  {
   "cell_type": "markdown",
   "id": "4f382bfa",
   "metadata": {},
   "source": [
    "#### Evaluar el modelo"
   ]
  },
  {
   "cell_type": "code",
   "execution_count": null,
   "id": "40d32efc",
   "metadata": {},
   "outputs": [],
   "source": [
    "model = load_model('segundo_modelo.h5')"
   ]
  },
  {
   "cell_type": "code",
   "execution_count": null,
   "id": "1c121c41",
   "metadata": {},
   "outputs": [],
   "source": [
    "# Evaluar el modelo\n",
    "test_loss, test_accuracy = model.evaluate(test_generator)\n",
    "print(f'Test accuracy: {test_accuracy:.4f}')\n"
   ]
  },
  {
   "cell_type": "code",
   "execution_count": null,
   "id": "e0aed678",
   "metadata": {},
   "outputs": [],
   "source": [
    "# Obtener predicciones\n",
    "y_pred_probs = model.predict(test_generator)\n",
    "y_pred = (y_pred_probs > 0.5).astype(int).reshape(-1)\n",
    "\n",
    "# Etiquetas verdaderas\n",
    "y_true = test_generator.classes\n",
    "# Nombres de clases\n",
    "class_labels = list(test_generator.class_indices.keys())\n",
    "\n",
    "# Reporte de métricas\n",
    "print(\"Reporte:\\n\")\n",
    "print(classification_report(y_true, y_pred, target_names=class_labels))"
   ]
  },
  {
   "cell_type": "code",
   "execution_count": null,
   "id": "50b48e2c",
   "metadata": {},
   "outputs": [],
   "source": [
    "# Generar matriz de confusión\n",
    "cm = confusion_matrix(y_true, y_pred)\n",
    "\n",
    "# Mostrar matriz de confusión \n",
    "cm_display = ConfusionMatrixDisplay(confusion_matrix=cm, display_labels=list(train_generator.class_indices.keys()))\n",
    "cm_display.plot(cmap='Blues')\n",
    "plt.title(\"Matriz de Confusión\")\n",
    "plt.show()"
   ]
  },
  {
   "cell_type": "code",
   "execution_count": null,
   "id": "5f3a550f",
   "metadata": {},
   "outputs": [],
   "source": [
    "acc = history.history['accuracy']\n",
    "val_acc = history.history['val_accuracy']\n",
    "loss = history.history['loss']\n",
    "val_loss = history.history['val_loss']\n",
    "\n",
    "epochs = range(1, len(acc)+1)\n",
    "\n",
    "# Accuracy\n",
    "\n",
    "plt.figure()\n",
    "plt.plot(epochs,acc,'bo',label='train accuracy')\n",
    "plt.plot(epochs,val_acc,'r',label='val accuracy')\n",
    "plt.title('train and val accuracy')\n",
    "plt.legend()\n",
    "plt.show()\n",
    "\n",
    "# Loss\n",
    "plt.figure()\n",
    "plt.plot(epochs,loss, 'bo', label ='training loss')\n",
    "plt.plot(epochs, val_loss, 'r', label ='validation loss')\n",
    "plt.title('train and val loss')\n",
    "plt.legend()\n",
    "\n",
    "plt.show()"
   ]
  }
 ],
 "metadata": {
  "kernelspec": {
   "display_name": "Python 3",
   "language": "python",
   "name": "python3"
  },
  "language_info": {
   "codemirror_mode": {
    "name": "ipython",
    "version": 3
   },
   "file_extension": ".py",
   "mimetype": "text/x-python",
   "name": "python",
   "nbconvert_exporter": "python",
   "pygments_lexer": "ipython3",
   "version": "3.10.11"
  }
 },
 "nbformat": 4,
 "nbformat_minor": 5
}
